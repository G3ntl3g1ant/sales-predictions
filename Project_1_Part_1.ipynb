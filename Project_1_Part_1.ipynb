{
  "nbformat": 4,
  "nbformat_minor": 0,
  "metadata": {
    "colab": {
      "provenance": [],
      "authorship_tag": "ABX9TyOu47QZMm+T0O4VqOCcgSvr",
      "include_colab_link": true
    },
    "kernelspec": {
      "name": "python3",
      "display_name": "Python 3"
    },
    "language_info": {
      "name": "python"
    }
  },
  "cells": [
    {
      "cell_type": "markdown",
      "metadata": {
        "id": "view-in-github",
        "colab_type": "text"
      },
      "source": [
        "<a href=\"https://colab.research.google.com/github/G3ntl3g1ant/sales-predictions/blob/main/Project_1_Part_1.ipynb\" target=\"_parent\"><img src=\"https://colab.research.google.com/assets/colab-badge.svg\" alt=\"Open In Colab\"/></a>"
      ]
    },
    {
      "cell_type": "markdown",
      "source": [
        "## Sales Predictions\n",
        "Kai Dawson-Fischer"
      ],
      "metadata": {
        "id": "1jFS8JiXWEgK"
      }
    },
    {
      "cell_type": "markdown",
      "source": [
        "## Loading Data"
      ],
      "metadata": {
        "id": "5irHNFO4WuLr"
      }
    },
    {
      "cell_type": "code",
      "source": [],
      "metadata": {
        "id": "anbe0Tn1WLde"
      },
      "execution_count": null,
      "outputs": []
    },
    {
      "cell_type": "markdown",
      "source": [
        "## Data Cleaning"
      ],
      "metadata": {
        "id": "VyDiiHbPWvgC"
      }
    },
    {
      "cell_type": "code",
      "source": [],
      "metadata": {
        "id": "UnzRoprBWsgK"
      },
      "execution_count": null,
      "outputs": []
    },
    {
      "cell_type": "markdown",
      "source": [
        "##Exploratory Visuals"
      ],
      "metadata": {
        "id": "xLFqQjMKWzON"
      }
    },
    {
      "cell_type": "code",
      "source": [],
      "metadata": {
        "id": "tVSod9ZNWtZl"
      },
      "execution_count": null,
      "outputs": []
    },
    {
      "cell_type": "markdown",
      "source": [
        "## Explanatory Visuals"
      ],
      "metadata": {
        "id": "KcoWps3XWz4g"
      }
    },
    {
      "cell_type": "code",
      "source": [],
      "metadata": {
        "id": "t8PjUF2nWtmN"
      },
      "execution_count": null,
      "outputs": []
    }
  ]
}